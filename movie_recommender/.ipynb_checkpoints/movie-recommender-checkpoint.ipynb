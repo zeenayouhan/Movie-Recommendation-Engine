{
 "cells": [
  {
   "cell_type": "code",
   "execution_count": 6,
   "metadata": {},
   "outputs": [
    {
     "name": "stdout",
     "output_type": "stream",
     "text": [
      "Index(['index', 'budget', 'genres', 'homepage', 'id', 'keywords',\n",
      "       'original_language', 'original_title', 'overview', 'popularity',\n",
      "       'production_companies', 'production_countries', 'release_date',\n",
      "       'revenue', 'runtime', 'spoken_languages', 'status', 'tagline', 'title',\n",
      "       'vote_average', 'vote_count', 'cast', 'crew', 'director'],\n",
      "      dtype='object')\n"
     ]
    }
   ],
   "source": [
    "import pandas as pd\n",
    "import numpy as np\n",
    "from sklearn.feature_extraction.text import CountVectorizer\n",
    "from sklearn.metrics.pairwise import cosine_similarity\n",
    "###### helper functions. Use them when needed #######\n",
    "def get_title_from_index(index):\n",
    "\treturn df[df.index == index][\"title\"].values[0]\n",
    "\n",
    "def get_index_from_title(title):\n",
    "\treturn df[df.title == title][\"index\"].values[0]\n",
    "##################################################\n",
    "\n",
    "##Step 1: Read CSV File\n",
    "df = pd.read_csv(\"movie_dataset.csv\")\n",
    "df.head()\n",
    "print(df.columns)\n",
    "\n",
    "##Step 2: Select Features\n",
    "\n",
    "\n",
    "##Step 3: Create a column in DF which combines all selected features\n",
    "\n",
    "##Step 4: Create count matrix from this new combined column\n",
    "\n",
    "##Step 5: Compute the Cosine Similarity based on the count_matrix\n",
    "\n",
    "movie_user_likes = \"Avatar\"\n",
    "\n",
    "## Step 6: Get index of this movie from its title\n",
    "\n",
    "## Step 7: Get a list of similar movies in descending order of similarity score\n",
    "\n",
    "\n",
    "## Step 8: Print titles of first 50 movies"
   ]
  },
  {
   "cell_type": "code",
   "execution_count": null,
   "metadata": {},
   "outputs": [],
   "source": []
  }
 ],
 "metadata": {
  "kernelspec": {
   "display_name": "Python 3",
   "language": "python",
   "name": "python3"
  },
  "language_info": {
   "codemirror_mode": {
    "name": "ipython",
    "version": 3
   },
   "file_extension": ".py",
   "mimetype": "text/x-python",
   "name": "python",
   "nbconvert_exporter": "python",
   "pygments_lexer": "ipython3",
   "version": "3.7.3"
  }
 },
 "nbformat": 4,
 "nbformat_minor": 2
}
